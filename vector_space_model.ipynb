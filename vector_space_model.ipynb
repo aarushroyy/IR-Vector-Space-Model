{
 "cells": [
  {
   "cell_type": "code",
   "execution_count": null,
   "id": "e38c08bd",
   "metadata": {},
   "outputs": [],
   "source": [
    "%pip install nltk\n",
    "\n",
    "import os\n",
    "import math\n",
    "from collections import defaultdict\n",
    "import re\n",
    "import nltk\n",
    "nltk.download('all')\n",
    "from nltk.corpus import stopwords\n",
    "from nltk.stem import WordNetLemmatizer\n",
    "from nltk.tokenize import word_tokenize"
   ]
  },
  {
   "cell_type": "code",
   "execution_count": null,
   "id": "7f784130",
   "metadata": {},
   "outputs": [],
   "source": [
    "nltk.download('punkt')\n",
    "nltk.download('stopwords')\n",
    "nltk.download('wordnet')\n",
    "nltk.download('punkt_tab')"
   ]
  },
  {
   "cell_type": "code",
   "execution_count": null,
   "id": "ce71bd14",
   "metadata": {},
   "outputs": [],
   "source": [
    "def preprocess(text):\n",
    "    # Lowercase\n",
    "    text = text.lower()\n",
    "    \n",
    "    # Remove special characters\n",
    "    text = re.sub(r'[^\\w\\s]', '', text)\n",
    "    \n",
    "    # Remove numbers\n",
    "    text = re.sub(r'\\d+', '', text)\n",
    "    \n",
    "    # Tokenize\n",
    "    text = word_tokenize(text)\n",
    "    \n",
    "    # Remove stopwords and lemmatize\n",
    "    stop_words = set(stopwords.words('english'))\n",
    "    text = [word for word in text if word not in stop_words]\n",
    "    lemmatizer = WordNetLemmatizer()\n",
    "    text = [lemmatizer.lemmatize(word) for word in text]\n",
    "    \n",
    "    # Stemming\n",
    "    stemmer = nltk.stem.PorterStemmer()\n",
    "    text = [stemmer.stem(word) for word in text]\n",
    "    \n",
    "    text_with_soundex = []\n",
    "    for word in text:\n",
    "        text_with_soundex.append(word)  # the original word\n",
    "        soundex_code = soundex(word)    # the Soundex version\n",
    "        if soundex_code != word:        # avoiding duplicates\n",
    "            text_with_soundex.append(soundex_code)\n",
    "    \n",
    "    return text_with_soundex"
   ]
  },
  {
   "cell_type": "code",
   "execution_count": null,
   "id": "0a23d5e7",
   "metadata": {},
   "outputs": [],
   "source": [
    "def soundex(word):\n",
    "    if not word:\n",
    "        return \"\"\n",
    "    \n",
    "    word = word.upper()\n",
    "    \n",
    "    # first letter\n",
    "    soundex_code = word[0]\n",
    "    \n",
    "    # replacing consonants with digits\n",
    "    mapping = {\n",
    "        'B': '1', 'F': '1', 'P': '1', 'V': '1',\n",
    "        'C': '2', 'G': '2', 'J': '2', 'K': '2', 'Q': '2', 'S': '2', 'X': '2', 'Z': '2',\n",
    "        'D': '3', 'T': '3',\n",
    "        'L': '4',\n",
    "        'M': '5', 'N': '5',\n",
    "        'R': '6'\n",
    "    }\n",
    "    \n",
    "    # apply mapping\n",
    "    for char in word[1:]:\n",
    "        if char in mapping:\n",
    "            code = mapping[char]\n",
    "            # Don't add duplicate consecutive codes\n",
    "            if soundex_code[-1] != code:\n",
    "                soundex_code += code\n",
    "    \n",
    "    # removing vowels\n",
    "    vowels = 'AEIOUYHW'\n",
    "    filtered_code = soundex_code[0]  # again keeping first letter\n",
    "    for char in soundex_code[1:]:\n",
    "        if char not in vowels:\n",
    "            filtered_code += char\n",
    "    \n",
    "    # adding with zeros or truncate to 4 characters\n",
    "    filtered_code = (filtered_code + '000')[:4]\n",
    "    \n",
    "    return filtered_code"
   ]
  }
 ],
 "metadata": {
  "kernelspec": {
   "display_name": "Python 3",
   "language": "python",
   "name": "python3"
  },
  "language_info": {
   "name": "python",
   "version": "3.12.3"
  }
 },
 "nbformat": 4,
 "nbformat_minor": 5
}
